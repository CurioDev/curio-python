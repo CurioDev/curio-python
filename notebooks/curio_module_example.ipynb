{
 "cells": [
  {
   "cell_type": "markdown",
   "id": "2f6250b9-82b2-4ddb-9239-a7081b0b8ebd",
   "metadata": {},
   "source": [
    "# Usage of Curio Library"
   ]
  },
  {
   "cell_type": "markdown",
   "id": "0b9be51b-11cc-4906-a4c8-b491dd37a726",
   "metadata": {},
   "source": [
    "## Add Curio Module to the Path"
   ]
  },
  {
   "cell_type": "code",
   "execution_count": 1,
   "id": "aa8e8353-0050-4209-af6c-772324d86bbd",
   "metadata": {},
   "outputs": [],
   "source": [
    "import sys\n",
    "import os\n",
    "\n",
    "module_path = os.path.abspath(os.path.join('..'))\n",
    "if module_path not in sys.path:\n",
    "    sys.path.append(module_path)"
   ]
  },
  {
   "cell_type": "markdown",
   "id": "18e8ba0a-eeb1-471d-af06-d23c9f265d7a",
   "metadata": {},
   "source": [
    "## Import Necessary Libraries"
   ]
  },
  {
   "cell_type": "code",
   "execution_count": 2,
   "id": "5900c255-e6f8-435d-a26c-7b4d4417c671",
   "metadata": {},
   "outputs": [],
   "source": [
    "import asyncio\n",
    "from curio import Curio  # Update the import path\n",
    "import cv2\n",
    "from IPython.display import display, Image, clear_output\n",
    "from threading import Event, Thread\n",
    "import time\n",
    "import ipywidgets as widgets"
   ]
  },
  {
   "cell_type": "markdown",
   "id": "c8df2b77-8e16-4d3e-ba01-c741753c820d",
   "metadata": {},
   "source": [
    "## Optional: Scan Devices"
   ]
  },
  {
   "cell_type": "code",
   "execution_count": 3,
   "id": "cfcfbdfb-419b-4cea-bf72-37b1df1d5513",
   "metadata": {},
   "outputs": [],
   "source": [
    "#await Curio.scan_for_devices()"
   ]
  },
  {
   "cell_type": "markdown",
   "id": "13823457-2170-4a54-94c6-b4da1a7fb3f4",
   "metadata": {},
   "source": [
    "## Define Constants"
   ]
  },
  {
   "cell_type": "code",
   "execution_count": 4,
   "id": "7e99a897-02ef-42b0-9188-700f0e5e38a3",
   "metadata": {},
   "outputs": [],
   "source": [
    "mac_address = \"EC4B2DA9-6088-D0F1-BF8F-4A0271D7BBCC\"\n",
    "camera_ip = \"192.168.137.78\"\n",
    "camera_port = 4747\n",
    "\n",
    "commands = {\n",
    "    'forward': b\"go(1000, 1000, 1000);\\n\",\n",
    "    'back': b\"go(-1000, -1000, 1000);\\n\",\n",
    "    'right': b\"go(-1000, 1000, 1000);\\n\",\n",
    "    'left': b\"go(1000, -1000, 1000);\\n\",\n",
    "    'stop': b\"go(0, 0, 0);\\n\"\n",
    "}"
   ]
  },
  {
   "cell_type": "markdown",
   "id": "a77d0944-d902-485e-9fda-757fd158da27",
   "metadata": {},
   "source": [
    "## Initialize Curio Device"
   ]
  },
  {
   "cell_type": "code",
   "execution_count": 5,
   "id": "9a691662-b036-400c-a02f-848ca05b73b1",
   "metadata": {},
   "outputs": [
    {
     "name": "stdout",
     "output_type": "stream",
     "text": [
      "Connected\n",
      "Curio> bytearray(b'go(1000, 1000, 1000);\\r\\n=undefined\\r\\n>')\n",
      "Curio> bytearray(b'go(-1000, -1000, 1000);\\r\\n=undefined\\r\\n>')\n",
      "Curio> bytearray(b'go(1000, 1000, 1000);\\r\\n=undefined\\r\\n>')\n",
      "Curio> bytearray(b'go(-1000, -1000, 1000);\\r\\n=undefined\\r\\n>')\n",
      "Curio> bytearray(b'go(0, 0, 0);\\r\\n=undefined\\r\\n>')\n",
      "Disconnected\n"
     ]
    }
   ],
   "source": [
    "curio = Curio(mac_address, camera_ip, camera_port)"
   ]
  },
  {
   "cell_type": "markdown",
   "id": "7a2b049b-9d01-4afc-945f-55c488b4aff1",
   "metadata": {},
   "source": [
    "## Widget for video display"
   ]
  },
  {
   "cell_type": "code",
   "execution_count": 6,
   "id": "c8057eea-d510-4d5e-b8aa-5804f040b9a3",
   "metadata": {},
   "outputs": [
    {
     "data": {
      "application/vnd.jupyter.widget-view+json": {
       "model_id": "772a70c648924a149183efe760784d71",
       "version_major": 2,
       "version_minor": 0
      },
      "text/plain": [
       "Image(value=b'', format='jpeg')"
      ]
     },
     "metadata": {},
     "output_type": "display_data"
    }
   ],
   "source": [
    "video_output = widgets.Image(format='jpeg')\n",
    "\n",
    "def display_stream():\n",
    "    try:\n",
    "        while not curio.stream_stop_event.is_set():\n",
    "            frame = curio.get_frame()\n",
    "            if frame is not None:\n",
    "                _, jpeg = cv2.imencode('.jpg', frame)\n",
    "                video_output.value = jpeg.tobytes()\n",
    "            time.sleep(0.01)\n",
    "    except Exception as e:\n",
    "        print(f\"Error displaying stream: {e}\")\n",
    "\n",
    "display_thread = Thread(target=display_stream)\n",
    "display_thread.start()\n",
    "\n",
    "display(video_output)"
   ]
  },
  {
   "cell_type": "markdown",
   "id": "2ebdfdc9-347b-4411-9f41-6cda3c4190e5",
   "metadata": {},
   "source": [
    "## Display control buttons in the notebook"
   ]
  },
  {
   "cell_type": "code",
   "execution_count": 7,
   "id": "7418ec2b-3678-469f-98c0-1066470ded96",
   "metadata": {},
   "outputs": [
    {
     "data": {
      "application/vnd.jupyter.widget-view+json": {
       "model_id": "508a958e5bc4422bac2dbbba72c43e09",
       "version_major": 2,
       "version_minor": 0
      },
      "text/plain": [
       "HBox(children=(Button(description='Forward', style=ButtonStyle()), Button(description='Back', style=ButtonStyl…"
      ]
     },
     "metadata": {},
     "output_type": "display_data"
    }
   ],
   "source": [
    "def handle_command(command):\n",
    "    curio.send_command(commands[command])\n",
    "\n",
    "forward_button = widgets.Button(description=\"Forward\")\n",
    "back_button = widgets.Button(description=\"Back\")\n",
    "left_button = widgets.Button(description=\"Left\")\n",
    "right_button = widgets.Button(description=\"Right\")\n",
    "stop_button = widgets.Button(description=\"Stop\")\n",
    "\n",
    "forward_button.on_click(lambda x: handle_command('forward'))\n",
    "back_button.on_click(lambda x: handle_command('back'))\n",
    "left_button.on_click(lambda x: handle_command('left'))\n",
    "right_button.on_click(lambda x: handle_command('right'))\n",
    "stop_button.on_click(lambda x: handle_command('stop'))\n",
    "\n",
    "control_box = widgets.HBox([forward_button, back_button, left_button, right_button, stop_button])\n",
    "display(control_box)"
   ]
  },
  {
   "cell_type": "markdown",
   "id": "3b4779a2-0108-42cf-80b4-0aa606839ebb",
   "metadata": {},
   "source": [
    "## Add a stop button to stop the Curio device and clean up"
   ]
  },
  {
   "cell_type": "code",
   "execution_count": 8,
   "id": "8f567030-91ce-4670-9db6-f16507de8178",
   "metadata": {},
   "outputs": [
    {
     "data": {
      "application/vnd.jupyter.widget-view+json": {
       "model_id": "b0716a18c62644aa896e1ee01ebf0f35",
       "version_major": 2,
       "version_minor": 0
      },
      "text/plain": [
       "Button(description='Stop Curio', style=ButtonStyle())"
      ]
     },
     "metadata": {},
     "output_type": "display_data"
    }
   ],
   "source": [
    "def stop_curio():\n",
    "    curio.stop()\n",
    "    display_thread.join()\n",
    "\n",
    "stop_curio_button = widgets.Button(description=\"Stop Curio\")\n",
    "stop_curio_button.on_click(lambda x: stop_curio())\n",
    "display(stop_curio_button)"
   ]
  },
  {
   "cell_type": "code",
   "execution_count": null,
   "id": "9b7f8ab6-5960-4a1f-ab4f-0a7969781e7a",
   "metadata": {},
   "outputs": [],
   "source": []
  },
  {
   "cell_type": "code",
   "execution_count": null,
   "id": "3248c776-8183-4ce6-9d24-9ae331231990",
   "metadata": {},
   "outputs": [],
   "source": []
  }
 ],
 "metadata": {
  "kernelspec": {
   "display_name": "Python 3 (ipykernel)",
   "language": "python",
   "name": "python3"
  },
  "language_info": {
   "codemirror_mode": {
    "name": "ipython",
    "version": 3
   },
   "file_extension": ".py",
   "mimetype": "text/x-python",
   "name": "python",
   "nbconvert_exporter": "python",
   "pygments_lexer": "ipython3",
   "version": "3.12.4"
  }
 },
 "nbformat": 4,
 "nbformat_minor": 5
}

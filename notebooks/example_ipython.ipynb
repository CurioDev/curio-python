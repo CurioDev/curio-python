{
 "cells": [
  {
   "cell_type": "markdown",
   "id": "f4e3821d",
   "metadata": {},
   "source": [
    "# Curio Robot Control and Video Stream\n",
    "\n",
    "This notebook demonstrates how to use the Curio class to control the robot and stream video in an IPython environment."
   ]
  },
  {
   "cell_type": "code",
   "execution_count": null,
   "id": "6c14f28d",
   "metadata": {},
   "outputs": [],
   "source": [
    "import sys\n",
    "sys.path.append('..')  # Adjust the path to your curio module"
   ]
  },
  {
   "cell_type": "code",
   "execution_count": null,
   "id": "538980c7",
   "metadata": {},
   "outputs": [],
   "source": [
    "import asyncio\n",
    "from curio import Curio\n",
    "from curio.ipython_utils import create_control_buttons, create_video_output, display_stream\n",
    "import ipywidgets as widgets\n",
    "from IPython.display import display\n",
    "import nest_asyncio\n",
    "nest_asyncio.apply()"
   ]
  },
  {
   "cell_type": "markdown",
   "id": "21c4a583",
   "metadata": {},
   "source": [
    "## Define Constants\n",
    "\n",
    "Define the Bluetooth MAC address and camera IP/port."
   ]
  },
  {
   "cell_type": "code",
   "execution_count": null,
   "id": "5d45d695",
   "metadata": {},
   "outputs": [],
   "source": [
    "# Define Constants\n",
    "mac_address = \"EC4B2DA9-6088-D0F1-BF8F-4A0271D7BBCC\"\n",
    "# mac_address = \"CC:80:D4:1C:05:20\" # This is for Windows\n",
    "camera_ip = \"192.168.1.11\"\n",
    "camera_port = 4747\n",
    "\n",
    "commands = {\n",
    "    'forward': b\"go(1000, 1000, 1000);\\n\",\n",
    "    'back': b\"go(-1000, -1000, 1000);\\n\",\n",
    "    'right': b\"go(-1000, 1000, 1000);\\n\",\n",
    "    'left': b\"go(1000, -1000, 1000);\\n\",\n",
    "    'stop': b\"go(0, 0, 0);\\n\"\n",
    "}"
   ]
  },
  {
   "cell_type": "markdown",
   "id": "770f4486",
   "metadata": {},
   "source": [
    "## Initialize Curio\n",
    "\n",
    "Create an instance of the Curio class with the specified MAC address and camera details."
   ]
  },
  {
   "cell_type": "code",
   "execution_count": null,
   "id": "a5f20879",
   "metadata": {},
   "outputs": [],
   "source": [
    "# Initialize the Curio device\n",
    "curio = Curio(mac_address, camera_ip, camera_port)"
   ]
  },
  {
   "cell_type": "markdown",
   "id": "c215fd53",
   "metadata": {},
   "source": [
    "## Video Display\n",
    "\n",
    "Create a video output widget and start displaying the video stream."
   ]
  },
  {
   "cell_type": "code",
   "execution_count": null,
   "id": "5b433a70",
   "metadata": {},
   "outputs": [],
   "source": [
    "# Widget for video display\n",
    "video_output = create_video_output()\n",
    "\n",
    "# Start the stream display\n",
    "display(video_output)\n",
    "\n",
    "async def main():\n",
    "    display_task = asyncio.create_task(display_stream(curio.video_stream, video_output))\n",
    "    await curio.run()\n",
    "    await display_task"
   ]
  },
  {
   "cell_type": "markdown",
   "id": "73781a0b",
   "metadata": {},
   "source": [
    "## Control Buttons\n",
    "\n",
    "Create and display control buttons for robot movement."
   ]
  },
  {
   "cell_type": "code",
   "execution_count": null,
   "id": "5dc0e520",
   "metadata": {},
   "outputs": [],
   "source": [
    "# Create and display control buttons\n",
    "control_box = create_control_buttons(curio, commands)\n",
    "display(control_box)"
   ]
  },
  {
   "cell_type": "markdown",
   "id": "b234041d",
   "metadata": {},
   "source": [
    "## Clean Up\n",
    "\n",
    "Add a stop button to stop the Curio device and clean up resources."
   ]
  },
  {
   "cell_type": "code",
   "execution_count": null,
   "id": "74f2cffb",
   "metadata": {},
   "outputs": [],
   "source": [
    "# Clean up\n",
    "def stop_curio():\n",
    "    curio.stop()\n",
    "    for task in asyncio.all_tasks():\n",
    "        task.cancel()\n",
    "\n",
    "# Add a stop button to stop the Curio device and clean up\n",
    "stop_curio_button = widgets.Button(description=\"Stop Curio\")\n",
    "stop_curio_button.on_click(lambda x: stop_curio())\n",
    "display(stop_curio_button)"
   ]
  },
  {
   "cell_type": "markdown",
   "id": "c23c16ba",
   "metadata": {},
   "source": [
    "## Run the Main Function\n",
    "\n",
    "Run the main function to start the Bluetooth connection and video streaming concurrently."
   ]
  },
  {
   "cell_type": "code",
   "execution_count": null,
   "id": "9d6548d3",
   "metadata": {},
   "outputs": [],
   "source": [
    "# Run the main function\n",
    "await main()"
   ]
  },
  {
   "cell_type": "markdown",
   "id": "ff1be3dc",
   "metadata": {},
   "source": [
    "## Optional: Device Scanning\n",
    "\n",
    "Run the device scanning function to discover nearby Bluetooth devices."
   ]
  },
  {
   "cell_type": "code",
   "execution_count": null,
   "id": "66a05840",
   "metadata": {},
   "outputs": [],
   "source": [
    "# Optional: Device Scanning\n",
    "await Curio.scan_for_devices()"
   ]
  },
  {
   "cell_type": "code",
   "execution_count": null,
   "id": "bff1a5b3-dec6-4f67-9af6-b29797c9e8bc",
   "metadata": {},
   "outputs": [],
   "source": []
  }
 ],
 "metadata": {
  "kernelspec": {
   "display_name": "Python 3 (ipykernel)",
   "language": "python",
   "name": "python3"
  },
  "language_info": {
   "codemirror_mode": {
    "name": "ipython",
    "version": 3
   },
   "file_extension": ".py",
   "mimetype": "text/x-python",
   "name": "python",
   "nbconvert_exporter": "python",
   "pygments_lexer": "ipython3",
   "version": "3.12.4"
  }
 },
 "nbformat": 4,
 "nbformat_minor": 5
}

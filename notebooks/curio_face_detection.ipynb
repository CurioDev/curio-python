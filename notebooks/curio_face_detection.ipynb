{
 "cells": [
  {
   "cell_type": "markdown",
   "id": "3cea8d15-1ecf-4834-ac84-ef3a04b25170",
   "metadata": {},
   "source": [
    "# Curio Face Detection"
   ]
  },
  {
   "cell_type": "code",
   "execution_count": 1,
   "id": "5c0f0bad-2932-4c46-8513-6763e6f82d45",
   "metadata": {},
   "outputs": [],
   "source": [
    "import sys\n",
    "import os\n",
    "\n",
    "module_path = os.path.abspath(os.path.join('..'))\n",
    "if module_path not in sys.path:\n",
    "    sys.path.append(module_path)"
   ]
  },
  {
   "cell_type": "markdown",
   "id": "ab210889-3729-4694-8283-80dd675ac38e",
   "metadata": {},
   "source": [
    "## Import Necessary Libraries"
   ]
  },
  {
   "cell_type": "code",
   "execution_count": 2,
   "id": "7e24d087-9c99-44ca-9f44-a90df998062d",
   "metadata": {},
   "outputs": [],
   "source": [
    "import asyncio\n",
    "import numpy as np\n",
    "from curio import Curio\n",
    "import cv2\n",
    "from IPython.display import display, Image, clear_output\n",
    "from threading import Event, Thread\n",
    "import time\n",
    "import ipywidgets as widgets"
   ]
  },
  {
   "cell_type": "markdown",
   "id": "26182dcb-43a8-40a3-9f86-fbc3179b0acd",
   "metadata": {},
   "source": [
    "## Define Constants"
   ]
  },
  {
   "cell_type": "code",
   "execution_count": 3,
   "id": "e9ae2073-754e-45ae-8d9b-975f3d1719b5",
   "metadata": {},
   "outputs": [],
   "source": [
    "mac_address = \"EC4B2DA9-6088-D0F1-BF8F-4A0271D7BBCC\"\n",
    "camera_ip = \"192.168.87.114\"\n",
    "camera_port = 4747\n",
    "\n",
    "commands = {\n",
    "    'forward': b\"go(50, 50, 1000);\\n\",\n",
    "    'back': b\"go(-50, -50, 1000);\\n\",\n",
    "    'right': b\"go(-50, 50, 1000);\\n\",\n",
    "    'left': b\"go(50, -50, 1000);\\n\",\n",
    "    'stop': b\"go(0, 0, 0);\\n\"\n",
    "}\n",
    "\n",
    "model_path = 'res10_300x300_ssd_iter_140000.caffemodel'\n",
    "config_path = 'deploy.prototxt'"
   ]
  },
  {
   "cell_type": "markdown",
   "id": "3bdb486c-4af5-4e90-bbf4-2f0ac35784f4",
   "metadata": {},
   "source": [
    "## Initialize Curio Device"
   ]
  },
  {
   "cell_type": "code",
   "execution_count": 4,
   "id": "9c227d87-058e-406a-afb1-1ed96c78d092",
   "metadata": {},
   "outputs": [
    {
     "name": "stdout",
     "output_type": "stream",
     "text": [
      "Connected\n"
     ]
    },
    {
     "name": "stderr",
     "output_type": "stream",
     "text": [
      "Exception in thread Thread-5 (run_loop):\n",
      "Traceback (most recent call last):\n",
      "  File \"/Library/Frameworks/Python.framework/Versions/3.12/lib/python3.12/threading.py\", line 1073, in _bootstrap_inner\n",
      "    self.run()\n",
      "  File \"/Library/Frameworks/Python.framework/Versions/3.12/lib/python3.12/site-packages/ipykernel/ipkernel.py\", line 766, in run_closure\n",
      "    _threading_Thread_run(self)\n",
      "  File \"/Library/Frameworks/Python.framework/Versions/3.12/lib/python3.12/threading.py\", line 1010, in run\n",
      "    self._target(*self._args, **self._kwargs)\n",
      "  File \"/Users/talha/Desktop/Curio Python/curio/bluetooth_controller.py\", line 24, in run_loop\n",
      "    loop.run_until_complete(self.run_client())\n",
      "  File \"/Library/Frameworks/Python.framework/Versions/3.12/lib/python3.12/site-packages/nest_asyncio.py\", line 96, in run_until_complete\n",
      "    raise RuntimeError(\n",
      "RuntimeError: Event loop stopped before Future completed.\n"
     ]
    }
   ],
   "source": [
    "curio = Curio(mac_address, camera_ip, camera_port)"
   ]
  },
  {
   "cell_type": "markdown",
   "id": "2c6f0d6c-bc35-4519-bcde-5f389d066ec1",
   "metadata": {},
   "source": [
    "## Load OpenCV's pre-trained Haar Cascade for face detection"
   ]
  },
  {
   "cell_type": "code",
   "execution_count": 5,
   "id": "790c9f22-0b8a-4a95-8e72-c73e97bd23c9",
   "metadata": {},
   "outputs": [],
   "source": [
    "net = cv2.dnn.readNetFromCaffe(config_path, model_path)"
   ]
  },
  {
   "cell_type": "code",
   "execution_count": 6,
   "id": "00536033-16f0-4675-a3ce-d0e9a5d0a326",
   "metadata": {},
   "outputs": [],
   "source": [
    "video_output = widgets.Image(format='jpeg')"
   ]
  },
  {
   "cell_type": "code",
   "execution_count": 7,
   "id": "6328eac5-b120-45cf-9f21-2c34f09c94b5",
   "metadata": {},
   "outputs": [],
   "source": [
    "def display_stream():\n",
    "    try:\n",
    "        last_command = None\n",
    "        while not curio.stream_stop_event.is_set():\n",
    "            frame = curio.get_frame()\n",
    "            if frame is not None:\n",
    "                # Rotate the frame clockwise\n",
    "                rotated_frame = cv2.rotate(frame, cv2.ROTATE_90_CLOCKWISE)\n",
    "                \n",
    "                # Prepare the frame for DNN face detection\n",
    "                blob = cv2.dnn.blobFromImage(rotated_frame, 1.0, (300, 300), [104, 117, 123], False, False)\n",
    "                net.setInput(blob)\n",
    "                detections = net.forward()\n",
    "                \n",
    "                (h, w) = rotated_frame.shape[:2]\n",
    "                for i in range(detections.shape[2]):\n",
    "                    confidence = detections[0, 0, i, 2]\n",
    "                    if confidence > 0.5:  # Confidence threshold\n",
    "                        box = detections[0, 0, i, 3:7] * np.array([w, h, w, h])\n",
    "                        (x1, y1, x2, y2) = box.astype(\"int\")\n",
    "                        \n",
    "                        cv2.rectangle(rotated_frame, (x1, y1), (x2, y2), (255, 0, 0), 2)\n",
    "                        \n",
    "                        face_center_x = (x1 + x2) // 2\n",
    "                        frame_center_x = rotated_frame.shape[1] // 2\n",
    "                        \n",
    "                        if face_center_x < frame_center_x - 50:\n",
    "                            command = commands['left']\n",
    "                        elif face_center_x > frame_center_x + 50:\n",
    "                            command = commands['right']\n",
    "                        else:\n",
    "                            command = commands['stop']\n",
    "                        \n",
    "                        if command != last_command or command != commands['stop']:\n",
    "                            curio.send_command(command)\n",
    "                            last_command = command\n",
    "                \n",
    "                _, jpeg = cv2.imencode('.jpg', rotated_frame)\n",
    "                video_output.value = jpeg.tobytes()\n",
    "            time.sleep(0.01)\n",
    "    except Exception as e:\n",
    "        print(f\"Error displaying stream: {e}\")"
   ]
  },
  {
   "cell_type": "code",
   "execution_count": 8,
   "id": "5c0dc9aa-afef-42eb-9f9a-afeeae703dcd",
   "metadata": {},
   "outputs": [],
   "source": [
    "display_thread = Thread(target=display_stream)\n",
    "display_thread.start()"
   ]
  },
  {
   "cell_type": "code",
   "execution_count": 9,
   "id": "63107d94-64b5-4eed-b738-bd532adb2205",
   "metadata": {},
   "outputs": [
    {
     "data": {
      "application/vnd.jupyter.widget-view+json": {
       "model_id": "1a010a2ce6b14115a2fe0a9fbe92759e",
       "version_major": 2,
       "version_minor": 0
      },
      "text/plain": [
       "Image(value=b'\\xff\\xd8\\xff\\xe0\\x00\\x10JFIF\\x00\\x01\\x01\\x00\\x00\\x01\\x00\\x01\\x00\\x00\\xff\\xdb\\x00C\\x00\\x02\\x01\\x0…"
      ]
     },
     "metadata": {},
     "output_type": "display_data"
    }
   ],
   "source": [
    "display(video_output)"
   ]
  },
  {
   "cell_type": "code",
   "execution_count": null,
   "id": "df759947-1d29-43d0-afa9-206a8cf9ca87",
   "metadata": {},
   "outputs": [],
   "source": [
    "def handle_command(command):\n",
    "    curio.send_command(commands[command])\n",
    "\n",
    "forward_button = widgets.Button(description=\"Forward\")\n",
    "back_button = widgets.Button(description=\"Back\")\n",
    "left_button = widgets.Button(description=\"Left\")\n",
    "right_button = widgets.Button(description=\"Right\")\n",
    "stop_button = widgets.Button(description=\"Stop\")\n",
    "\n",
    "forward_button.on_click(lambda x: handle_command('forward'))\n",
    "back_button.on_click(lambda x: handle_command('back'))\n",
    "left_button.on_click(lambda x: handle_command('left'))\n",
    "right_button.on_click(lambda x: handle_command('right'))\n",
    "stop_button.on_click(lambda x: handle_command('stop'))\n",
    "\n",
    "control_box = widgets.HBox([forward_button, back_button, left_button, right_button, stop_button])\n",
    "display(control_box)"
   ]
  },
  {
   "cell_type": "code",
   "execution_count": 10,
   "id": "0f6531ee-e515-4c5f-a2f9-580ca1d175c6",
   "metadata": {},
   "outputs": [
    {
     "data": {
      "application/vnd.jupyter.widget-view+json": {
       "model_id": "2e205664511a4d2f85b68fba5b91008d",
       "version_major": 2,
       "version_minor": 0
      },
      "text/plain": [
       "Button(description='Stop Curio', style=ButtonStyle())"
      ]
     },
     "metadata": {},
     "output_type": "display_data"
    }
   ],
   "source": [
    "def stop_curio():\n",
    "    curio.stop()\n",
    "    display_thread.join()\n",
    "\n",
    "stop_curio_button = widgets.Button(description=\"Stop Curio\")\n",
    "stop_curio_button.on_click(lambda x: stop_curio())\n",
    "display(stop_curio_button)"
   ]
  },
  {
   "cell_type": "code",
   "execution_count": null,
   "id": "495b8c1d-5b9f-4c0b-88c1-50cda854deb5",
   "metadata": {},
   "outputs": [],
   "source": []
  }
 ],
 "metadata": {
  "kernelspec": {
   "display_name": "Python 3 (ipykernel)",
   "language": "python",
   "name": "python3"
  },
  "language_info": {
   "codemirror_mode": {
    "name": "ipython",
    "version": 3
   },
   "file_extension": ".py",
   "mimetype": "text/x-python",
   "name": "python",
   "nbconvert_exporter": "python",
   "pygments_lexer": "ipython3",
   "version": "3.12.4"
  }
 },
 "nbformat": 4,
 "nbformat_minor": 5
}
